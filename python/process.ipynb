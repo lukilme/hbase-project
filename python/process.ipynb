{
 "cells": [
  {
   "cell_type": "code",
   "execution_count": null,
   "metadata": {},
   "outputs": [],
   "source": [
    "import pandas as pd\n",
    "df = pd.read_parquet(\"data/yellow.parquet\")\n",
    "print(df.isnull().sum())"
   ]
  },
  {
   "cell_type": "code",
   "execution_count": null,
   "metadata": {},
   "outputs": [],
   "source": [
    "def check_column(name_colum):\n",
    "    col = df[name_colum]\n",
    "    print(f'{name_colum} variable:')\n",
    "    print(f\"Null count -> {col.isnull().sum()}\")\n",
    "    try:\n",
    "        print(f\"Max -> {col.max()}\")\n",
    "        print(f\"Min -> {col.min()}\")\n",
    "        print(f\"Mean -> {col.mean()}\")\n",
    "        print(f\"Std -> {col.std()}\")\n",
    "    except TypeError as ex:\n",
    "        print(\"Type não contável\")\n",
    "    print(f\"Moda -> {col.mode()[0] if not col.mode().empty else None}\")\n",
    "    print(f\"Unique values -> {col.nunique()}\")\n",
    "    value_counts = col.value_counts()\n",
    "    if(len(value_counts)<20):\n",
    "        print(value_counts)\n",
    "        print(\"=\"*30)\n",
    "\n",
    "check_column('airport_fee')\n",
    "# Possui baixa variabilidade, além de fazer sentido que por não ter taxa informada, ser classificada como 0\n",
    "df['airport_fee'] = df['airport_fee'].fillna(0)\n",
    "\n",
    "check_column('congestion_surcharge')\n",
    "\n",
    "check_column('store_and_fwd_flag')\n",
    "\n",
    "check_column('RatecodeID')\n",
    "\n",
    "check_column('passenger_count')"
   ]
  },
  {
   "cell_type": "code",
   "execution_count": null,
   "metadata": {},
   "outputs": [],
   "source": []
  }
 ],
 "metadata": {
  "kernelspec": {
   "display_name": ".env",
   "language": "python",
   "name": "python3"
  },
  "language_info": {
   "codemirror_mode": {
    "name": "ipython",
    "version": 3
   },
   "file_extension": ".py",
   "mimetype": "text/x-python",
   "name": "python",
   "nbconvert_exporter": "python",
   "pygments_lexer": "ipython3",
   "version": "3.12.7"
  }
 },
 "nbformat": 4,
 "nbformat_minor": 2
}
