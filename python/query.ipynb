{
 "cells": [
  {
   "cell_type": "code",
   "execution_count": 1,
   "metadata": {},
   "outputs": [],
   "source": [
    "import pandas as pd\n",
    "from pyhive import hive\n",
    "from queryManager import queryManager\n",
    "\n",
    "conn = hive.Connection(host=\"localhost\", port=10000, username=\"hive\")\n",
    "cursor = conn.cursor()"
   ]
  },
  {
   "cell_type": "code",
   "execution_count": null,
   "metadata": {},
   "outputs": [],
   "source": [
    "with open('../hiveql/query.sql', 'r') as file:\n",
    "    sql_queries = file.read().split(';')\n",
    "    for query in sql_queries:\n",
    "        query = query.strip()\n",
    "        if not query:\n",
    "            print('It`s empty')\n",
    "        else:\n",
    "            try:\n",
    "                print(len(query))\n",
    "                print(f\"Executing query: {query}\")\n",
    "                cursor.execute(query)\n",
    "                if query.lower().startswith('show'):  \n",
    "                    results = cursor.fetchall()\n",
    "                    print(\"Results:\", results)\n",
    "            except Exception as e:\n",
    "                print(f\"Error executing query: {query}\\n{e}\")\n"
   ]
  },
  {
   "cell_type": "code",
   "execution_count": null,
   "metadata": {},
   "outputs": [],
   "source": [
    "cursor.execute('CREATE TABLE IF NOT EXISTS')\n",
    "results = cursor.fetchall()\n",
    "print(results)"
   ]
  },
  {
   "cell_type": "code",
   "execution_count": 2,
   "metadata": {},
   "outputs": [
    {
     "name": "stdout",
     "output_type": "stream",
     "text": [
      "('test2', 'test3')\n"
     ]
    }
   ],
   "source": [
    "queryManager.createDatabase(conn,value='test2',nome='test3')"
   ]
  },
  {
   "cell_type": "code",
   "execution_count": null,
   "metadata": {},
   "outputs": [],
   "source": []
  }
 ],
 "metadata": {
  "kernelspec": {
   "display_name": ".env",
   "language": "python",
   "name": "python3"
  },
  "language_info": {
   "codemirror_mode": {
    "name": "ipython",
    "version": 3
   },
   "file_extension": ".py",
   "mimetype": "text/x-python",
   "name": "python",
   "nbconvert_exporter": "python",
   "pygments_lexer": "ipython3",
   "version": "3.12.7"
  }
 },
 "nbformat": 4,
 "nbformat_minor": 2
}
