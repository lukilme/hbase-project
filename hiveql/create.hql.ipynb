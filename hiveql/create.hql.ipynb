{
 "cells": [
  {
   "cell_type": "code",
   "execution_count": 10,
   "metadata": {},
   "outputs": [],
   "source": [
    "import pandas as pd\n",
    "from pyhive import hive\n",
    "\n",
    "def execute_query(cursor, query, fetch=False):\n",
    "    cursor.execute(query)\n",
    "    if fetch:\n",
    "        return cursor.fetchall()\n",
    "\n",
    "conn = hive.Connection(host=\"localhost\", port=10000, username=\"hive\")\n",
    "cursor = conn.cursor()"
   ]
  },
  {
   "cell_type": "code",
   "execution_count": 11,
   "metadata": {},
   "outputs": [
    {
     "name": "stdout",
     "output_type": "stream",
     "text": [
      "[('default',), ('test',)]\n",
      "[('karate',)]\n",
      "[('karate',)]\n",
      "   0      1\n",
      "0  1  Lucas\n",
      "1  2   Joao\n",
      "2  1  Lucas\n",
      "3  2   Joao\n",
      "4  1  Lucas\n",
      "5  2   Joao\n"
     ]
    }
   ],
   "source": [
    "execute_query(cursor, 'CREATE DATABASE IF NOT EXISTS test')\n",
    "execute_query(cursor, 'USE test')\n",
    "\n",
    "databases = execute_query(cursor, 'SHOW DATABASES', fetch=True)\n",
    "print(databases)\n",
    "\n",
    "tables = execute_query(cursor, 'SHOW TABLES', fetch=True)\n",
    "print(tables)\n",
    "\n",
    "execute_query(cursor, '''\n",
    "CREATE TABLE IF NOT EXISTS karate (\n",
    "    id INT,\n",
    "    name STRING)\n",
    "''')\n",
    "\n",
    "tables = execute_query(cursor, 'SHOW TABLES', fetch=True)\n",
    "print(tables)\n",
    "\n",
    "execute_query(cursor, '''\n",
    "INSERT INTO karate(id, name) VALUES\n",
    "(1,\"Lucas\"),\n",
    "(2,\"Joao\")\n",
    "''')\n",
    "\n",
    "karate_data = execute_query(cursor, 'SELECT * FROM karate', fetch=True)\n",
    "karate_df = pd.DataFrame(karate_data)\n",
    "karate_df\n"
   ]
  },
  {
   "cell_type": "code",
   "execution_count": null,
   "metadata": {},
   "outputs": [],
   "source": [
    "execute_query(cursor, 'USE java')\n",
    "tables = execute_query(cursor,'SHOW TABLES',True)\n",
    "print(tables)\n",
    "results = pd.DataFrame(execute_query(cursor, f'select * from {results[0][0]}', True))\n",
    "print(results)"
   ]
  },
  {
   "cell_type": "code",
   "execution_count": null,
   "metadata": {},
   "outputs": [],
   "source": []
  }
 ],
 "metadata": {
  "kernelspec": {
   "display_name": ".env",
   "language": "python",
   "name": "python3"
  },
  "language_info": {
   "codemirror_mode": {
    "name": "ipython",
    "version": 3
   },
   "file_extension": ".py",
   "mimetype": "text/x-python",
   "name": "python",
   "nbconvert_exporter": "python",
   "pygments_lexer": "ipython3",
   "version": "3.12.7"
  }
 },
 "nbformat": 4,
 "nbformat_minor": 2
}
